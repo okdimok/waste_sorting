{
 "cells": [
  {
   "cell_type": "code",
   "execution_count": null,
   "metadata": {
    "collapsed": false
   },
   "outputs": [],
   "source": [
    "%%javascript\n",
    "\n",
    "# Bind cmd-shift-d to duplicate line of code\n",
    "Jupyter.keyboard_manager.edit_shortcuts.add_shortcut('cmd-shift-d', {\n",
    "    help : 'Duplicate current line',\n",
    "    help_index : 'zz',\n",
    "    handler: function(env) {\n",
    "        var cm=env.notebook.get_selected_cell().code_mirror;\n",
    "        // get a position of a current cursor in a current cell\n",
    "        var current_cursor = cm.doc.getCursor();\n",
    "\n",
    "        // read a content from a line where is the current cursor\n",
    "        var line_content = cm.doc.getLine(current_cursor.line);\n",
    "        cm.execCommand('goLineEnd');\n",
    "        cm.execCommand('newlineAndIndent');\n",
    "        cm.execCommand('indentLess');\n",
    "        cm.doc.replaceSelection(line_content);\n",
    "        cm.doc.setCursor(current_cursor.line + 1, current_cursor.ch);\n",
    "        return false;\n",
    "    }}\n",
    ");"
   ]
  },
  {
   "cell_type": "markdown",
   "metadata": {},
   "source": [
    "__Universal Robot Control__"
   ]
  },
  {
   "cell_type": "code",
   "execution_count": null,
   "metadata": {
    "collapsed": true
   },
   "outputs": [],
   "source": [
    "import urx\n",
    "import time, pickle\n",
    "import numpy as np\n",
    "import math3d as m3d"
   ]
  },
  {
   "cell_type": "code",
   "execution_count": null,
   "metadata": {
    "collapsed": false
   },
   "outputs": [],
   "source": [
    "robot = urx.Robot(\"10.42.0.162\", use_rt=True)"
   ]
  },
  {
   "cell_type": "code",
   "execution_count": null,
   "metadata": {
    "collapsed": false
   },
   "outputs": [],
   "source": [
    "robot.set_digital_out(0, 1)\n",
    "time.sleep(1)\n",
    "robot.set_digital_out(0, 0)"
   ]
  },
  {
   "cell_type": "code",
   "execution_count": null,
   "metadata": {
    "collapsed": true
   },
   "outputs": [],
   "source": [
    "robot.set_tcp((0, 0, 0.05, 0, 0, 0)) #ckeck Installation tab"
   ]
  },
  {
   "cell_type": "code",
   "execution_count": null,
   "metadata": {
    "collapsed": false
   },
   "outputs": [],
   "source": [
    "robot.translate((0, 0, 0.05), acc=0.05, vel=0.05) #acceleration, velocity"
   ]
  },
  {
   "cell_type": "code",
   "execution_count": null,
   "metadata": {
    "collapsed": false
   },
   "outputs": [],
   "source": [
    "robot.translate_tool((0, 0, -0.03), acc=0.05, vel=0.05)"
   ]
  },
  {
   "cell_type": "code",
   "execution_count": null,
   "metadata": {
    "collapsed": false
   },
   "outputs": [],
   "source": [
    "robot.get_pose()"
   ]
  },
  {
   "cell_type": "code",
   "execution_count": null,
   "metadata": {
    "collapsed": false
   },
   "outputs": [],
   "source": [
    "robot.get_pos()"
   ]
  },
  {
   "cell_type": "code",
   "execution_count": null,
   "metadata": {
    "collapsed": false
   },
   "outputs": [],
   "source": [
    "robot.getl()"
   ]
  },
  {
   "cell_type": "code",
   "execution_count": null,
   "metadata": {
    "collapsed": false
   },
   "outputs": [],
   "source": [
    "def save_current_pos(fname):\n",
    "    p = robot.getl()\n",
    "    np.savetxt(fname, np.array(p))\n",
    "       \n",
    "\n",
    "def move_to_pos(fname, *args, **kwargs):\n",
    "    p = np.loadtxt(fname)\n",
    "    robot.movel(p, *args, **kwargs)\n",
    "    \n",
    "def print_pos(fname):\n",
    "    p = np.loadtxt(fname)\n",
    "    print(p)\n",
    "    "
   ]
  },
  {
   "cell_type": "code",
   "execution_count": null,
   "metadata": {
    "collapsed": false,
    "scrolled": true
   },
   "outputs": [],
   "source": [
    "p = np.array(robot.getl())\n",
    "p[0] = x_robot\n",
    "p[1] = y_robot\n",
    "robot.movel(p, vel=0.05, acc=0.05)"
   ]
  },
  {
   "cell_type": "code",
   "execution_count": null,
   "metadata": {
    "collapsed": false
   },
   "outputs": [],
   "source": [
    "move_to_pos(\"in\", vel=0.05, acc=0.05)"
   ]
  },
  {
   "cell_type": "code",
   "execution_count": null,
   "metadata": {
    "collapsed": false
   },
   "outputs": [],
   "source": [
    "robot.getl()"
   ]
  },
  {
   "cell_type": "code",
   "execution_count": null,
   "metadata": {
    "collapsed": false
   },
   "outputs": [],
   "source": [
    "robot.x += 0.01 #1 hour 10 minutes up to this point"
   ]
  },
  {
   "cell_type": "code",
   "execution_count": null,
   "metadata": {
    "collapsed": true
   },
   "outputs": [],
   "source": [
    "p = robot.get_pos()"
   ]
  },
  {
   "cell_type": "code",
   "execution_count": null,
   "metadata": {
    "collapsed": false
   },
   "outputs": [],
   "source": [
    "p.array"
   ]
  },
  {
   "cell_type": "code",
   "execution_count": null,
   "metadata": {
    "collapsed": false
   },
   "outputs": [],
   "source": [
    "m3d.Vector(p.array)"
   ]
  },
  {
   "cell_type": "code",
   "execution_count": null,
   "metadata": {
    "collapsed": false
   },
   "outputs": [],
   "source": [
    "import threading\n",
    "from IPython.display import display\n",
    "import ipywidgets as widgets\n",
    "import time\n",
    "\n",
    "fw = widgets.HTML(\n",
    "    value='',\n",
    "    placeholder='No data',\n",
    "    description='Force:',\n",
    ")\n",
    "\n",
    "def observe_force(fw):\n",
    "    while True:\n",
    "        fw.value = \"<br>\".join([\"{0:5} {1:7.3f}\".format(*c) for c in \n",
    "                                zip(\"x y z rx ry rz\".split(), robot.get_tcp_force())])\n",
    "\n",
    "thread = threading.Thread(target=observe_force, args=(fw,))\n",
    "display(fw)\n",
    "thread.start()\n",
    "\n"
   ]
  },
  {
   "cell_type": "code",
   "execution_count": null,
   "metadata": {
    "collapsed": false
   },
   "outputs": [],
   "source": [
    "robot.get_tcp_force().__str__()"
   ]
  },
  {
   "cell_type": "markdown",
   "metadata": {
    "collapsed": true
   },
   "source": [
    "__Here starts CV__"
   ]
  },
  {
   "cell_type": "code",
   "execution_count": null,
   "metadata": {
    "collapsed": false
   },
   "outputs": [],
   "source": [
    "%matplotlib notebook\n",
    "\n",
    "import cv2 #pip install opencv-python\n",
    "import matplotlib.pyplot as plt\n",
    "import signal, time\n",
    "import numpy as np\n",
    "from numpy import linalg\n",
    "#to check: cv2.getBuildInformation()\n",
    "print (*filter(lambda s: \"FFMPEG\" in s, cv2.getBuildInformation().split(\"\\n\")))\n",
    "#for opencv with ffmpeg in conda\n",
    "#https://github.com/conda-forge/opencv-feedstock/\n",
    "#pip uninstall opencv\n",
    "#pip uninstall opencv-python\n",
    "#conda unistall opencv\n",
    "#conda install conda=4.0.11\n",
    "#conda config --add channels conda-forge\n",
    "#conda install opencv\n"
   ]
  },
  {
   "cell_type": "code",
   "execution_count": null,
   "metadata": {
    "collapsed": true
   },
   "outputs": [],
   "source": [
    "def signal_handler(signal, frame):\n",
    "    # KeyboardInterrupt detected, exiting\n",
    "    global is_interrupted\n",
    "    is_interrupted = True"
   ]
  },
  {
   "cell_type": "code",
   "execution_count": null,
   "metadata": {
    "collapsed": false
   },
   "outputs": [],
   "source": [
    "%%bash\n",
    "ls /dev | grep video"
   ]
  },
  {
   "cell_type": "code",
   "execution_count": null,
   "metadata": {
    "collapsed": false
   },
   "outputs": [],
   "source": [
    "vc = cv2.VideoCapture(1) #0 for the first webcam, 1 for the second.."
   ]
  },
  {
   "cell_type": "code",
   "execution_count": null,
   "metadata": {
    "collapsed": false
   },
   "outputs": [],
   "source": [
    "def imshow(frame, from_color_space='bgr'):\n",
    "    plt.figure()\n",
    "    if from_color_space == 'bgr':\n",
    "        rgb_frame = cv2.cvtColor(frame, cv2.COLOR_BGR2RGB)    # makes the blues image look real colored\n",
    "    elif from_color_space == 'hsv':\n",
    "        rgb_frame = cv2.cvtColor(frame, cv2.COLOR_HSV2RGB)    # makes the blues image look real colored\n",
    "    else:\n",
    "        rgb_frame=frame\n",
    "    webcam_preview = plt.imshow(rgb_frame)\n",
    "\n",
    "def online_view():\n",
    "    plt.ion()\n",
    "\n",
    "    if vc.isOpened(): # try to get the first frame\n",
    "        is_capturing, frame = vc.read()\n",
    "        imshow(frame)   \n",
    "    else:\n",
    "        is_capturing = False\n",
    "\n",
    "    signal.signal(signal.SIGINT, signal_handler)\n",
    "    is_interrupted = False\n",
    "    while is_capturing:\n",
    "        is_capturing, frame = vc.read()\n",
    "        frame = cv2.cvtColor(frame, cv2.COLOR_BGR2RGB)    # makes the blues image look real colored\n",
    "        webcam_preview.set_data(frame)\n",
    "        plt.draw()\n",
    "\n",
    "        try:    # Avoids a NotImplementedError caused by `plt.pause`\n",
    "            plt.pause(0.05)\n",
    "        except Exception:\n",
    "            pass\n",
    "        if is_interrupted:\n",
    "            vc.release()\n",
    "            break\n",
    "    \n",
    "def get_frame():\n",
    "    timeout = time.time() + 0.1\n",
    "    while time.time() < timeout:\n",
    "        if vc.isOpened(): # try to get the first frame\n",
    "            is_capturing, frame = vc.read()\n",
    "        else:\n",
    "            raise (Exception(\"Unable to capture\"))\n",
    "    return frame\n",
    "\n",
    "\n",
    "#frame = get_frame()\n",
    "#imshow(frame)\n",
    "\n",
    "#online_view()"
   ]
  },
  {
   "cell_type": "code",
   "execution_count": null,
   "metadata": {
    "collapsed": false
   },
   "outputs": [],
   "source": [
    "frame = get_frame()\n",
    "imshow(frame)"
   ]
  },
  {
   "cell_type": "markdown",
   "metadata": {
    "collapsed": true
   },
   "source": [
    "__The blob detection__"
   ]
  },
  {
   "cell_type": "code",
   "execution_count": null,
   "metadata": {
    "collapsed": true
   },
   "outputs": [],
   "source": [
    "move_to_pos('in', acc=0.05, vel=0.05)"
   ]
  },
  {
   "cell_type": "code",
   "execution_count": null,
   "metadata": {
    "collapsed": false,
    "scrolled": false
   },
   "outputs": [],
   "source": [
    "# Read image\n",
    "# im = cv2.imread(\"detection/cubes_4.png\")\n",
    "im = get_frame()\n",
    "cv2.imwrite('test.png', im)\n",
    "\n",
    "imshow(im)\n",
    "\n",
    "# Blur image to remove noise\n",
    "im = cv2.GaussianBlur(im, (5,5), 40)\n",
    "\n",
    "# imshow(im)\n",
    "\n",
    "hsv = cv2.cvtColor(im, cv2.COLOR_BGR2HSV)\n",
    "\n",
    "greenMin = (30, 90, 120) #./range-detector.py -i test.png -f HSV\n",
    "greenMax = (150, 255, 255)\n",
    "\n",
    "# Sets pixels to white if in purple range, else will be set to black\n",
    "mask = cv2.inRange(hsv, greenMin, greenMax)\n",
    "\n",
    "# Bitwise-AND of mask and purple only image - only used for display\n",
    "masked = cv2.bitwise_and(im, im, mask= mask)\n",
    "\n",
    "imshow(masked)\n",
    "\n",
    "# dilate makes the in range areas larger\n",
    "mask = cv2.erode(mask, None, iterations=5)\n",
    "\n",
    "# mask = cv2.dilate(mask, None, iterations=8)\n",
    "\n",
    "\n",
    "# Bitwise-AND of mask and purple only image - only used for display\n",
    "masked = cv2.bitwise_and(im, im, mask= mask)\n",
    "\n",
    "imshow(masked)"
   ]
  },
  {
   "cell_type": "code",
   "execution_count": null,
   "metadata": {
    "collapsed": false
   },
   "outputs": [],
   "source": [
    "pts = []\n",
    "\n",
    "# find contours in the mask and initialize the current\n",
    "# (x, y) center of the ball\n",
    "cnts = cv2.findContours(mask.copy(), cv2.RETR_LIST,\n",
    "    cv2.CHAIN_APPROX_SIMPLE)[-2]\n",
    "center = None\n",
    "\n",
    "print (len(cnts))\n",
    "\n",
    "# only proceed if at least one contour was found\n",
    "for c in cnts:\n",
    "    # find the largest contour in the mask, then use\n",
    "    # it to compute the minimum enclosing circle and\n",
    "    # centroid\n",
    "#     c = max(cnts, key=cv2.contourArea)\n",
    "    ((x, y), radius) = cv2.minEnclosingCircle(c)\n",
    "\n",
    "    # only proceed if the radius meets a minimum size\n",
    "    if radius > 25 and radius < 200:\n",
    "        print (radius)\n",
    "        \n",
    "        M = cv2.moments(c)\n",
    "        center = (int(M[\"m10\"] / M[\"m00\"]), int(M[\"m01\"] / M[\"m00\"]))\n",
    "        if center[1] > 400:\n",
    "            continue\n",
    "        # draw the circle and centroid on the frame,\n",
    "        # then update the list of tracked points\n",
    "        cv2.circle(im, (int(x), int(y)), int(radius),\n",
    "            (0, 255, 255), 2)\n",
    "        cv2.circle(im, center, 5, (0, 0, 255), -1)\n",
    "\n",
    "        # update the points queue\n",
    "        pts.append(center)\n",
    "\n",
    "imshow(im)"
   ]
  },
  {
   "cell_type": "code",
   "execution_count": null,
   "metadata": {
    "collapsed": false
   },
   "outputs": [],
   "source": [
    "pts"
   ]
  },
  {
   "cell_type": "code",
   "execution_count": null,
   "metadata": {
    "collapsed": true
   },
   "outputs": [],
   "source": [
    "# save_current_pos('green')"
   ]
  },
  {
   "cell_type": "code",
   "execution_count": null,
   "metadata": {
    "collapsed": true
   },
   "outputs": [],
   "source": [
    "move_to_pos('in', acc=0.05, vel=0.05)"
   ]
  },
  {
   "cell_type": "code",
   "execution_count": null,
   "metadata": {
    "collapsed": true
   },
   "outputs": [],
   "source": [
    "# save_current_pos('white')"
   ]
  }
 ],
 "metadata": {
  "kernelspec": {
   "display_name": "Python [conda root]",
   "language": "python",
   "name": "conda-root-py"
  },
  "language_info": {
   "codemirror_mode": {
    "name": "ipython",
    "version": 3
   },
   "file_extension": ".py",
   "mimetype": "text/x-python",
   "name": "python",
   "nbconvert_exporter": "python",
   "pygments_lexer": "ipython3",
   "version": "3.5.4"
  }
 },
 "nbformat": 4,
 "nbformat_minor": 1
}
